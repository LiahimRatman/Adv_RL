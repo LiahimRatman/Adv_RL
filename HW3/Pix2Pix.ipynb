{
 "cells": [
  {
   "cell_type": "markdown",
   "id": "detected-watts",
   "metadata": {
    "id": "detected-watts"
   },
   "source": [
    "### Часть 1. Pix2Pix"
   ]
  },
  {
   "cell_type": "code",
   "source": [
    "from google.colab import drive\n",
    "drive.mount('/content/drive')"
   ],
   "metadata": {
    "colab": {
     "base_uri": "https://localhost:8080/"
    },
    "id": "SFQgHbiapqxv",
    "executionInfo": {
     "status": "ok",
     "timestamp": 1640007628648,
     "user_tz": -180,
     "elapsed": 1856,
     "user": {
      "displayName": "Михаил Коротков",
      "photoUrl": "https://lh3.googleusercontent.com/a/default-user=s64",
      "userId": "16497683687080169087"
     }
    },
    "outputId": "c01b5101-899f-46f5-e3c3-a5464a11cbf9"
   },
   "id": "SFQgHbiapqxv",
   "execution_count": 1,
   "outputs": [
    {
     "output_type": "stream",
     "name": "stdout",
     "text": [
      "Drive already mounted at /content/drive; to attempt to forcibly remount, call drive.mount(\"/content/drive\", force_remount=True).\n"
     ]
    }
   ]
  },
  {
   "cell_type": "code",
   "source": [
    "%cd drive/MyDrive/HW3"
   ],
   "metadata": {
    "id": "LiphJ6o1Kd_u",
    "executionInfo": {
     "status": "ok",
     "timestamp": 1640012966495,
     "user_tz": -180,
     "elapsed": 309,
     "user": {
      "displayName": "Михаил Коротков",
      "photoUrl": "https://lh3.googleusercontent.com/a/default-user=s64",
      "userId": "16497683687080169087"
     }
    }
   },
   "id": "LiphJ6o1Kd_u",
   "execution_count": 7,
   "outputs": []
  },
  {
   "cell_type": "code",
   "source": [
    "from tqdm import tqdm\n",
    "import numpy as np\n",
    "import torch\n",
    "from torchvision import datasets, transforms\n",
    "\n",
    "from models import GeneratorUNet, Discriminator\n",
    "from utils import show_results, init_normal_weights, set_requires_grad"
   ],
   "metadata": {
    "id": "uufynamnKPfx",
    "executionInfo": {
     "status": "ok",
     "timestamp": 1640007629772,
     "user_tz": -180,
     "elapsed": 1127,
     "user": {
      "displayName": "Михаил Коротков",
      "photoUrl": "https://lh3.googleusercontent.com/a/default-user=s64",
      "userId": "16497683687080169087"
     }
    }
   },
   "id": "uufynamnKPfx",
   "execution_count": 3,
   "outputs": []
  },
  {
   "cell_type": "code",
   "execution_count": 5,
   "id": "3G1YYVvbWB5T",
   "metadata": {
    "id": "3G1YYVvbWB5T",
    "executionInfo": {
     "status": "ok",
     "timestamp": 1640007629774,
     "user_tz": -180,
     "elapsed": 7,
     "user": {
      "displayName": "Михаил Коротков",
      "photoUrl": "https://lh3.googleusercontent.com/a/default-user=s64",
      "userId": "16497683687080169087"
     }
    }
   },
   "outputs": [],
   "source": [
    "device = \"cuda:0\" if torch.cuda.is_available() else \"cpu\"\n",
    "transform = transforms.Compose([transforms.ToTensor(),\n",
    "                                transforms.Normalize(mean=(0.5, 0.5, 0.5), std=(0.5, 0.5, 0.5))])\n",
    "dataset = datasets.ImageFolder('train_facades', transform=transform)\n",
    "val_dataset = datasets.ImageFolder('val_facades', transform=transform)\n",
    "dataloader = torch.utils.data.DataLoader(dataset, batch_size=1)\n",
    "val_dataloader = torch.utils.data.DataLoader(val_dataset, batch_size=len(val_dataset))"
   ]
  },
  {
   "cell_type": "code",
   "execution_count": 6,
   "id": "harmful-librarian",
   "metadata": {
    "colab": {
     "base_uri": "https://localhost:8080/",
     "height": 1000,
     "output_embedded_package_id": "1SHzV-wOJQpMebJpLkIhNhRruYKihG9kP"
    },
    "id": "harmful-librarian",
    "outputId": "f98ca243-1d96-4022-9d68-f8292f240c42",
    "executionInfo": {
     "status": "ok",
     "timestamp": 1640010604347,
     "user_tz": -180,
     "elapsed": 94,
     "user": {
      "displayName": "Михаил Коротков",
      "photoUrl": "https://lh3.googleusercontent.com/a/default-user=s64",
      "userId": "16497683687080169087"
     }
    }
   },
   "outputs": [
    {
     "output_type": "display_data",
     "data": {
      "text/plain": "Output hidden; open in https://colab.research.google.com to view."
     },
     "metadata": {}
    }
   ],
   "source": [
    "nepochs = 150\n",
    "mask_border = 256\n",
    "lr_generator = 3e-4\n",
    "lr_discriminator = 2e-4\n",
    "alpha = 0.09\n",
    "pixel_coeff = 50\n",
    "discriminator_coeff = 0.5\n",
    "\n",
    "\n",
    "generator = GeneratorUNet()\n",
    "generator = generator.to(device)\n",
    "generator.apply(init_normal_weights)\n",
    "discriminator = Discriminator()\n",
    "discriminator = discriminator.to(device)\n",
    "discriminator.apply(init_normal_weights)\n",
    "\n",
    "\n",
    "criterion_GAN = torch.nn.MSELoss().to(device)\n",
    "criterion_pixelwise = torch.nn.L1Loss().to(device)\n",
    "optimizer_G = torch.optim.Adam(generator.parameters(), lr=lr_generator, betas=(0.5, 0.999))\n",
    "optimizer_D = torch.optim.Adam(discriminator.parameters(), lr=lr_discriminator, betas=(0.5, 0.999))\n",
    "\n",
    "\n",
    "for epoch in tqdm(range(nepochs)):\n",
    "    for i, batch in enumerate(dataloader):\n",
    "        real_A = batch[0][:, :, :, mask_border:].to(device)\n",
    "        real_B = batch[0][:, :, :, :mask_border].to(device)\n",
    "        valid = torch.tensor(np.ones((real_A.size(0), 1, 16, 16)), dtype=torch.float).to(device)\n",
    "        fake = torch.tensor(np.zeros((real_A.size(0), 1, 16, 16)), dtype=torch.float).to(device)\n",
    "\n",
    "        optimizer_G.zero_grad()\n",
    "        fake_B = generator(real_A)\n",
    "        pred_fake = discriminator(fake_B, real_A)\n",
    "\n",
    "        # GAN loss\n",
    "        loss_GAN = criterion_GAN(pred_fake, valid)\n",
    "\n",
    "        # Pixel loss\n",
    "        loss_pixel = criterion_pixelwise(fake_B, real_B)\n",
    "\n",
    "        # Generator loss\n",
    "        loss_G = alpha * loss_GAN + alpha * pixel_coeff * loss_pixel\n",
    "        loss_G.backward()\n",
    "        set_requires_grad(discriminator, False)\n",
    "        optimizer_G.step()\n",
    "\n",
    "        # Discriminator loss\n",
    "        set_requires_grad(discriminator, True)\n",
    "        optimizer_D.zero_grad()\n",
    "        pred_real = discriminator(real_B, real_A)\n",
    "        loss_real = criterion_GAN(pred_real, valid)\n",
    "        pred_fake = discriminator(fake_B.detach(), real_A)\n",
    "        loss_fake = criterion_GAN(pred_fake, fake)\n",
    "        loss_D = discriminator_coeff * (loss_real + loss_fake)\n",
    "        loss_D.backward()\n",
    "        optimizer_D.step()\n",
    "\n",
    "    print(f\"Epoch {epoch} of {nepochs} | Loss_GAN: {round(loss_GAN.item(), 4)}, Loss_Pixel: {round(loss_pixel.item(), 4)}, Loss_Generator: {round(loss_G.item(), 4)} | Loss_Discriminator: {round(loss_D.item(), 4)}\")\n",
    "\n",
    "    if epoch % 5 == 0:\n",
    "        imgs = next(iter(val_dataloader))\n",
    "        ix = np.random.randint(0, len(val_dataset), 5).tolist()\n",
    "        real_A = imgs[0][ix, :, :, mask_border:].to(device)\n",
    "        real_B = imgs[0][ix, :, :, :mask_border]\n",
    "        show_results(real_B, generator(real_A).to(torch.device(\"cpu\")))"
   ]
  }
 ],
 "metadata": {
  "colab": {
   "name": "Pix2Pix.ipynb",
   "provenance": [],
   "collapsed_sections": [],
   "machine_shape": "hm"
  },
  "kernelspec": {
   "display_name": "Python 3",
   "language": "python",
   "name": "python3"
  },
  "language_info": {
   "codemirror_mode": {
    "name": "ipython",
    "version": 3
   },
   "file_extension": ".py",
   "mimetype": "text/x-python",
   "name": "python",
   "nbconvert_exporter": "python",
   "pygments_lexer": "ipython3",
   "version": "3.6.5"
  },
  "accelerator": "GPU",
  "pycharm": {
   "stem_cell": {
    "cell_type": "raw",
    "source": [],
    "metadata": {
     "collapsed": false
    }
   }
  }
 },
 "nbformat": 4,
 "nbformat_minor": 5
}